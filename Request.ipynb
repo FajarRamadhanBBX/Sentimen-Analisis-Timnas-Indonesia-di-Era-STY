{
  "nbformat": 4,
  "nbformat_minor": 0,
  "metadata": {
    "colab": {
      "provenance": []
    },
    "kernelspec": {
      "name": "python3",
      "display_name": "Python 3"
    },
    "language_info": {
      "name": "python"
    }
  },
  "cells": [
    {
      "cell_type": "code",
      "source": [
        "import tensorflow as tf\n",
        "import pandas as pd\n",
        "import requests\n",
        "import json\n",
        "import base64\n",
        "import random"
      ],
      "metadata": {
        "id": "2Yj2_l14tbwF"
      },
      "execution_count": null,
      "outputs": []
    },
    {
      "cell_type": "code",
      "source": [
        "df = pd.read_csv('/final_data/data.csv')\n",
        "df.pop('label')\n",
        "\n",
        "columns = df.columns.values\n",
        "rand = random.randint(0, len(columns))\n",
        "\n",
        "features = df.values[rand]\n",
        "\n",
        "inputs = {key: value for key, value in zip(columns, features)}\n",
        "inputs"
      ],
      "metadata": {
        "colab": {
          "base_uri": "https://localhost:8080/"
        },
        "id": "Bt6CGrBBsOIe",
        "outputId": "a4ce7608-c5c9-40d0-e6a7-e2aa060cee38"
      },
      "execution_count": null,
      "outputs": [
        {
          "output_type": "execute_result",
          "data": {
            "text/plain": [
              "{'komentar': '<username> Simulasi indonesia kembali dijajah keturunan belanda kedepan... bye bye talenta anak bangsa lokal indonesia... bubarkan liga dan pencarian bibit unggul atlet bola drpd rusak mental anak bangsanya...'}"
            ]
          },
          "metadata": {},
          "execution_count": 26
        }
      ]
    },
    {
      "cell_type": "code",
      "source": [
        "def string_feature(value):\n",
        "    return tf.train.Feature(\n",
        "        bytes_list=tf.train.BytesList(\n",
        "            value=[bytes(value, 'utf-8')]\n",
        "        ),\n",
        "    )\n",
        "\n",
        "def prepare_json(inputs: dict):\n",
        "    feature_spec = dict()\n",
        "\n",
        "    for keys, values in inputs.items():\n",
        "        if isinstance(values, str):\n",
        "            feature_spec[keys] = string_feature(values)\n",
        "\n",
        "    example = tf.train.Example(\n",
        "        features=tf.train.Features(feature=feature_spec)\n",
        "    ).SerializeToString()\n",
        "\n",
        "    result = [{\n",
        "        'examples': {\n",
        "            'b64': base64.b64encode(example).decode()\n",
        "        }\n",
        "    }]\n",
        "\n",
        "    return json.dumps({\n",
        "        'signature_name': 'serving_default',\n",
        "        'instances': result,\n",
        "    })"
      ],
      "metadata": {
        "id": "83Ed2YTvqpfT"
      },
      "execution_count": null,
      "outputs": []
    },
    {
      "cell_type": "code",
      "source": [
        "def predict(input):\n",
        "  response = requests.post(\n",
        "      'https://analisis-sentimen-sty-production-ab80.up.railway.app/v1/models/sentimen-analysis-sty-model:predict',\n",
        "      data=prepare_json(input)\n",
        "  )\n",
        "\n",
        "  pred = response.json()['predictions'][0][0]\n",
        "  return pred\n",
        "\n",
        "predict = predict(inputs)\n",
        "predict\n",
        "print(f'sentimen positif' if predict>0.5 else f'sentimen negatif')"
      ],
      "metadata": {
        "colab": {
          "base_uri": "https://localhost:8080/"
        },
        "id": "aGJqcMwM2GaE",
        "outputId": "7a71f0d5-12d6-4f88-964e-f5679a62308a"
      },
      "execution_count": null,
      "outputs": [
        {
          "output_type": "stream",
          "name": "stdout",
          "text": [
            "sentimen negatif\n"
          ]
        }
      ]
    }
  ]
}